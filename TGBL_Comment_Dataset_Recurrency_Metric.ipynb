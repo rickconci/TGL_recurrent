{
 "cells": [
  {
   "cell_type": "markdown",
   "metadata": {},
   "source": [
    "# Recurrency Metric for the tgbl-comment dataset"
   ]
  },
  {
   "cell_type": "markdown",
   "metadata": {},
   "source": [
    "This notebook explores a recurrency metric for the tgbl-comment dataset based on how often interaction between pairs of source and destination occur. It splits the interactions in groups based on frequncy of recurrence - 1 day, 1 week, 1 month etc. "
   ]
  },
  {
   "cell_type": "markdown",
   "metadata": {},
   "source": [
    "### Dataset Preparation"
   ]
  },
  {
   "cell_type": "code",
   "execution_count": 19,
   "metadata": {},
   "outputs": [],
   "source": [
    "from TGB.tgb.linkproppred.dataset import LinkPropPredDataset\n",
    "import pandas as pd"
   ]
  },
  {
   "cell_type": "code",
   "execution_count": 20,
   "metadata": {},
   "outputs": [
    {
     "name": "stdout",
     "output_type": "stream",
     "text": [
      "raw file found, skipping download\n",
      "Dataset directory is  /opt/homebrew/lib/python3.11/site-packages/tgb/./Datasets/tgbl_comment\n",
      "loading processed file\n"
     ]
    },
    {
     "ename": "KeyboardInterrupt",
     "evalue": "",
     "output_type": "error",
     "traceback": [
      "\u001b[0;31m---------------------------------------------------------------------------\u001b[0m",
      "\u001b[0;31mKeyboardInterrupt\u001b[0m                         Traceback (most recent call last)",
      "Cell \u001b[0;32mIn[20], line 5\u001b[0m\n\u001b[1;32m      2\u001b[0m dataset \u001b[38;5;241m=\u001b[39m LinkPropPredDataset(name\u001b[38;5;241m=\u001b[39mname, root\u001b[38;5;241m=\u001b[39m\u001b[38;5;124m\"\u001b[39m\u001b[38;5;124m./Datasets\u001b[39m\u001b[38;5;124m\"\u001b[39m, preprocess\u001b[38;5;241m=\u001b[39m\u001b[38;5;28;01mTrue\u001b[39;00m)\n\u001b[1;32m      3\u001b[0m data \u001b[38;5;241m=\u001b[39m dataset\u001b[38;5;241m.\u001b[39mfull_data\n\u001b[0;32m----> 5\u001b[0m data_df \u001b[38;5;241m=\u001b[39m \u001b[43mpd\u001b[49m\u001b[38;5;241;43m.\u001b[39;49m\u001b[43mDataFrame\u001b[49m\u001b[43m(\u001b[49m\u001b[43m[\u001b[49m\u001b[43mdata\u001b[49m\u001b[43m[\u001b[49m\u001b[38;5;124;43m'\u001b[39;49m\u001b[38;5;124;43msources\u001b[39;49m\u001b[38;5;124;43m'\u001b[39;49m\u001b[43m]\u001b[49m\u001b[43m,\u001b[49m\u001b[43m \u001b[49m\u001b[43mdata\u001b[49m\u001b[43m[\u001b[49m\u001b[38;5;124;43m'\u001b[39;49m\u001b[38;5;124;43mdestinations\u001b[39;49m\u001b[38;5;124;43m'\u001b[39;49m\u001b[43m]\u001b[49m\u001b[43m,\u001b[49m\u001b[43m \u001b[49m\u001b[43mdata\u001b[49m\u001b[43m[\u001b[49m\u001b[38;5;124;43m'\u001b[39;49m\u001b[38;5;124;43mtimestamps\u001b[39;49m\u001b[38;5;124;43m'\u001b[39;49m\u001b[43m]\u001b[49m\u001b[43m]\u001b[49m\u001b[43m)\u001b[49m\u001b[38;5;241m.\u001b[39mT\n\u001b[1;32m      6\u001b[0m data_df\u001b[38;5;241m.\u001b[39mcolumns \u001b[38;5;241m=\u001b[39m [\u001b[38;5;124m'\u001b[39m\u001b[38;5;124mSource\u001b[39m\u001b[38;5;124m'\u001b[39m, \u001b[38;5;124m'\u001b[39m\u001b[38;5;124mDestination\u001b[39m\u001b[38;5;124m'\u001b[39m, \u001b[38;5;124m'\u001b[39m\u001b[38;5;124mTimestamp\u001b[39m\u001b[38;5;124m'\u001b[39m]\n",
      "File \u001b[0;32m/opt/homebrew/lib/python3.11/site-packages/pandas/core/frame.py:746\u001b[0m, in \u001b[0;36mDataFrame.__init__\u001b[0;34m(self, data, index, columns, dtype, copy)\u001b[0m\n\u001b[1;32m    744\u001b[0m     \u001b[38;5;28;01mif\u001b[39;00m columns \u001b[38;5;129;01mis\u001b[39;00m \u001b[38;5;129;01mnot\u001b[39;00m \u001b[38;5;28;01mNone\u001b[39;00m:\n\u001b[1;32m    745\u001b[0m         columns \u001b[38;5;241m=\u001b[39m ensure_index(columns)\n\u001b[0;32m--> 746\u001b[0m     arrays, columns, index \u001b[38;5;241m=\u001b[39m \u001b[43mnested_data_to_arrays\u001b[49m\u001b[43m(\u001b[49m\n\u001b[1;32m    747\u001b[0m \u001b[43m        \u001b[49m\u001b[38;5;66;43;03m# error: Argument 3 to \"nested_data_to_arrays\" has incompatible\u001b[39;49;00m\n\u001b[1;32m    748\u001b[0m \u001b[43m        \u001b[49m\u001b[38;5;66;43;03m# type \"Optional[Collection[Any]]\"; expected \"Optional[Index]\"\u001b[39;49;00m\n\u001b[1;32m    749\u001b[0m \u001b[43m        \u001b[49m\u001b[43mdata\u001b[49m\u001b[43m,\u001b[49m\n\u001b[1;32m    750\u001b[0m \u001b[43m        \u001b[49m\u001b[43mcolumns\u001b[49m\u001b[43m,\u001b[49m\n\u001b[1;32m    751\u001b[0m \u001b[43m        \u001b[49m\u001b[43mindex\u001b[49m\u001b[43m,\u001b[49m\u001b[43m  \u001b[49m\u001b[38;5;66;43;03m# type: ignore[arg-type]\u001b[39;49;00m\n\u001b[1;32m    752\u001b[0m \u001b[43m        \u001b[49m\u001b[43mdtype\u001b[49m\u001b[43m,\u001b[49m\n\u001b[1;32m    753\u001b[0m \u001b[43m    \u001b[49m\u001b[43m)\u001b[49m\n\u001b[1;32m    754\u001b[0m     mgr \u001b[38;5;241m=\u001b[39m arrays_to_mgr(\n\u001b[1;32m    755\u001b[0m         arrays,\n\u001b[1;32m    756\u001b[0m         columns,\n\u001b[0;32m   (...)\u001b[0m\n\u001b[1;32m    759\u001b[0m         typ\u001b[38;5;241m=\u001b[39mmanager,\n\u001b[1;32m    760\u001b[0m     )\n\u001b[1;32m    761\u001b[0m \u001b[38;5;28;01melse\u001b[39;00m:\n",
      "File \u001b[0;32m/opt/homebrew/lib/python3.11/site-packages/pandas/core/internals/construction.py:510\u001b[0m, in \u001b[0;36mnested_data_to_arrays\u001b[0;34m(data, columns, index, dtype)\u001b[0m\n\u001b[1;32m    507\u001b[0m \u001b[38;5;28;01mif\u001b[39;00m is_named_tuple(data[\u001b[38;5;241m0\u001b[39m]) \u001b[38;5;129;01mand\u001b[39;00m columns \u001b[38;5;129;01mis\u001b[39;00m \u001b[38;5;28;01mNone\u001b[39;00m:\n\u001b[1;32m    508\u001b[0m     columns \u001b[38;5;241m=\u001b[39m ensure_index(data[\u001b[38;5;241m0\u001b[39m]\u001b[38;5;241m.\u001b[39m_fields)\n\u001b[0;32m--> 510\u001b[0m arrays, columns \u001b[38;5;241m=\u001b[39m \u001b[43mto_arrays\u001b[49m\u001b[43m(\u001b[49m\u001b[43mdata\u001b[49m\u001b[43m,\u001b[49m\u001b[43m \u001b[49m\u001b[43mcolumns\u001b[49m\u001b[43m,\u001b[49m\u001b[43m \u001b[49m\u001b[43mdtype\u001b[49m\u001b[38;5;241;43m=\u001b[39;49m\u001b[43mdtype\u001b[49m\u001b[43m)\u001b[49m\n\u001b[1;32m    511\u001b[0m columns \u001b[38;5;241m=\u001b[39m ensure_index(columns)\n\u001b[1;32m    513\u001b[0m \u001b[38;5;28;01mif\u001b[39;00m index \u001b[38;5;129;01mis\u001b[39;00m \u001b[38;5;28;01mNone\u001b[39;00m:\n",
      "File \u001b[0;32m/opt/homebrew/lib/python3.11/site-packages/pandas/core/internals/construction.py:872\u001b[0m, in \u001b[0;36mto_arrays\u001b[0;34m(data, columns, dtype)\u001b[0m\n\u001b[1;32m    869\u001b[0m     arr, columns \u001b[38;5;241m=\u001b[39m _list_of_series_to_arrays(data, columns)\n\u001b[1;32m    870\u001b[0m \u001b[38;5;28;01melse\u001b[39;00m:\n\u001b[1;32m    871\u001b[0m     \u001b[38;5;66;03m# last ditch effort\u001b[39;00m\n\u001b[0;32m--> 872\u001b[0m     data \u001b[38;5;241m=\u001b[39m \u001b[43m[\u001b[49m\u001b[38;5;28;43mtuple\u001b[39;49m\u001b[43m(\u001b[49m\u001b[43mx\u001b[49m\u001b[43m)\u001b[49m\u001b[43m \u001b[49m\u001b[38;5;28;43;01mfor\u001b[39;49;00m\u001b[43m \u001b[49m\u001b[43mx\u001b[49m\u001b[43m \u001b[49m\u001b[38;5;129;43;01min\u001b[39;49;00m\u001b[43m \u001b[49m\u001b[43mdata\u001b[49m\u001b[43m]\u001b[49m\n\u001b[1;32m    873\u001b[0m     arr \u001b[38;5;241m=\u001b[39m _list_to_arrays(data)\n\u001b[1;32m    875\u001b[0m content, columns \u001b[38;5;241m=\u001b[39m _finalize_columns_and_data(arr, columns, dtype)\n",
      "File \u001b[0;32m/opt/homebrew/lib/python3.11/site-packages/pandas/core/internals/construction.py:872\u001b[0m, in \u001b[0;36m<listcomp>\u001b[0;34m(.0)\u001b[0m\n\u001b[1;32m    869\u001b[0m     arr, columns \u001b[38;5;241m=\u001b[39m _list_of_series_to_arrays(data, columns)\n\u001b[1;32m    870\u001b[0m \u001b[38;5;28;01melse\u001b[39;00m:\n\u001b[1;32m    871\u001b[0m     \u001b[38;5;66;03m# last ditch effort\u001b[39;00m\n\u001b[0;32m--> 872\u001b[0m     data \u001b[38;5;241m=\u001b[39m [\u001b[38;5;28mtuple\u001b[39m(x) \u001b[38;5;28;01mfor\u001b[39;00m x \u001b[38;5;129;01min\u001b[39;00m data]\n\u001b[1;32m    873\u001b[0m     arr \u001b[38;5;241m=\u001b[39m _list_to_arrays(data)\n\u001b[1;32m    875\u001b[0m content, columns \u001b[38;5;241m=\u001b[39m _finalize_columns_and_data(arr, columns, dtype)\n",
      "\u001b[0;31mKeyboardInterrupt\u001b[0m: "
     ]
    }
   ],
   "source": [
    "name = \"tgbl-comment\"\n",
    "dataset = LinkPropPredDataset(name=name, root=\"./Datasets\", preprocess=True)\n",
    "data = dataset.full_data\n",
    "\n",
    "data_df = pd.DataFrame([data['sources'], data['destinations'], data['timestamps']]).T\n",
    "data_df.columns = ['Source', 'Destination', 'Timestamp']"
   ]
  },
  {
   "cell_type": "code",
   "execution_count": 3,
   "metadata": {},
   "outputs": [
    {
     "data": {
      "text/html": [
       "<div>\n",
       "<style scoped>\n",
       "    .dataframe tbody tr th:only-of-type {\n",
       "        vertical-align: middle;\n",
       "    }\n",
       "\n",
       "    .dataframe tbody tr th {\n",
       "        vertical-align: top;\n",
       "    }\n",
       "\n",
       "    .dataframe thead th {\n",
       "        text-align: right;\n",
       "    }\n",
       "</style>\n",
       "<table border=\"1\" class=\"dataframe\">\n",
       "  <thead>\n",
       "    <tr style=\"text-align: right;\">\n",
       "      <th></th>\n",
       "      <th>Source</th>\n",
       "      <th>Destination</th>\n",
       "      <th>Timestamp</th>\n",
       "    </tr>\n",
       "  </thead>\n",
       "  <tbody>\n",
       "    <tr>\n",
       "      <th>0</th>\n",
       "      <td>0.0</td>\n",
       "      <td>0.0</td>\n",
       "      <td>1.134365e+09</td>\n",
       "    </tr>\n",
       "    <tr>\n",
       "      <th>1</th>\n",
       "      <td>1.0</td>\n",
       "      <td>1.0</td>\n",
       "      <td>1.134366e+09</td>\n",
       "    </tr>\n",
       "    <tr>\n",
       "      <th>2</th>\n",
       "      <td>2.0</td>\n",
       "      <td>3.0</td>\n",
       "      <td>1.134368e+09</td>\n",
       "    </tr>\n",
       "    <tr>\n",
       "      <th>3</th>\n",
       "      <td>4.0</td>\n",
       "      <td>4.0</td>\n",
       "      <td>1.134371e+09</td>\n",
       "    </tr>\n",
       "    <tr>\n",
       "      <th>4</th>\n",
       "      <td>5.0</td>\n",
       "      <td>5.0</td>\n",
       "      <td>1.134372e+09</td>\n",
       "    </tr>\n",
       "    <tr>\n",
       "      <th>...</th>\n",
       "      <td>...</td>\n",
       "      <td>...</td>\n",
       "      <td>...</td>\n",
       "    </tr>\n",
       "    <tr>\n",
       "      <th>44314502</th>\n",
       "      <td>270407.0</td>\n",
       "      <td>970235.0</td>\n",
       "      <td>1.293840e+09</td>\n",
       "    </tr>\n",
       "    <tr>\n",
       "      <th>44314503</th>\n",
       "      <td>307508.0</td>\n",
       "      <td>178151.0</td>\n",
       "      <td>1.293840e+09</td>\n",
       "    </tr>\n",
       "    <tr>\n",
       "      <th>44314504</th>\n",
       "      <td>609052.0</td>\n",
       "      <td>199010.0</td>\n",
       "      <td>1.293840e+09</td>\n",
       "    </tr>\n",
       "    <tr>\n",
       "      <th>44314505</th>\n",
       "      <td>906272.0</td>\n",
       "      <td>1643.0</td>\n",
       "      <td>1.293840e+09</td>\n",
       "    </tr>\n",
       "    <tr>\n",
       "      <th>44314506</th>\n",
       "      <td>64.0</td>\n",
       "      <td>742582.0</td>\n",
       "      <td>1.293840e+09</td>\n",
       "    </tr>\n",
       "  </tbody>\n",
       "</table>\n",
       "<p>44314507 rows × 3 columns</p>\n",
       "</div>"
      ],
      "text/plain": [
       "            Source  Destination     Timestamp\n",
       "0              0.0          0.0  1.134365e+09\n",
       "1              1.0          1.0  1.134366e+09\n",
       "2              2.0          3.0  1.134368e+09\n",
       "3              4.0          4.0  1.134371e+09\n",
       "4              5.0          5.0  1.134372e+09\n",
       "...            ...          ...           ...\n",
       "44314502  270407.0     970235.0  1.293840e+09\n",
       "44314503  307508.0     178151.0  1.293840e+09\n",
       "44314504  609052.0     199010.0  1.293840e+09\n",
       "44314505  906272.0       1643.0  1.293840e+09\n",
       "44314506      64.0     742582.0  1.293840e+09\n",
       "\n",
       "[44314507 rows x 3 columns]"
      ]
     },
     "execution_count": 3,
     "metadata": {},
     "output_type": "execute_result"
    }
   ],
   "source": [
    "data_df"
   ]
  },
  {
   "cell_type": "markdown",
   "metadata": {},
   "source": [
    "### Recurrency Metric based on Interaction Frequency"
   ]
  },
  {
   "cell_type": "code",
   "execution_count": null,
   "metadata": {},
   "outputs": [],
   "source": [
    "data_df['Timestamp'] = pd.to_datetime(data_df['Timestamp'], unit='s')"
   ]
  },
  {
   "cell_type": "code",
   "execution_count": null,
   "metadata": {},
   "outputs": [
    {
     "name": "stderr",
     "output_type": "stream",
     "text": [
      "/var/folders/j9/gr3m7ly52mx4hfzpzdtzzfg40000gn/T/ipykernel_91215/2341409907.py:8: SettingWithCopyWarning: \n",
      "A value is trying to be set on a copy of a slice from a DataFrame.\n",
      "Try using .loc[row_indexer,col_indexer] = value instead\n",
      "\n",
      "See the caveats in the documentation: https://pandas.pydata.org/pandas-docs/stable/user_guide/indexing.html#returning-a-view-versus-a-copy\n",
      "  df_filtered['YearWeek'] = df_filtered['Timestamp'].dt.to_period('W')\n"
     ]
    },
    {
     "name": "stdout",
     "output_type": "stream",
     "text": [
      "Year with the most records: 2010\n",
      "            Source  Destination           Timestamp  Year  \\\n",
      "15466202  105954.0     105954.0 2010-01-01 00:04:24  2010   \n",
      "15469791  129858.0     129858.0 2010-01-01 02:03:07  2010   \n",
      "15470966  125388.0     320215.0 2010-01-01 02:47:35  2010   \n",
      "15471914   52237.0      52237.0 2010-01-01 03:28:35  2010   \n",
      "15472685   63541.0      63541.0 2010-01-01 04:02:43  2010   \n",
      "...            ...          ...                 ...   ...   \n",
      "20241505  210090.0     455378.0 2010-03-26 01:07:27  2010   \n",
      "20640650  247710.0     538817.0 2010-04-01 15:11:11  2010   \n",
      "20843279  538817.0     538817.0 2010-04-05 15:52:17  2010   \n",
      "20864278  232399.0     538817.0 2010-04-05 21:19:17  2010   \n",
      "20971744  545722.0     545722.0 2010-04-07 14:27:14  2010   \n",
      "\n",
      "                       YearWeek  \n",
      "15466202  2009-12-28/2010-01-03  \n",
      "15469791  2009-12-28/2010-01-03  \n",
      "15470966  2009-12-28/2010-01-03  \n",
      "15471914  2009-12-28/2010-01-03  \n",
      "15472685  2009-12-28/2010-01-03  \n",
      "...                         ...  \n",
      "20241505  2010-03-22/2010-03-28  \n",
      "20640650  2010-03-29/2010-04-04  \n",
      "20843279  2010-04-05/2010-04-11  \n",
      "20864278  2010-04-05/2010-04-11  \n",
      "20971744  2010-04-05/2010-04-11  \n",
      "\n",
      "[208 rows x 5 columns]\n"
     ]
    }
   ],
   "source": [
    "data_df['Year'] = data_df['Timestamp'].dt.year\n",
    "most_common_year = data_df['Year'].value_counts().idxmax()\n",
    "\n",
    "start_date = pd.Timestamp(year=most_common_year, month=1, day=1)\n",
    "end_date = pd.Timestamp(year=most_common_year, month=6, day=30)\n",
    "df_filtered = data_df[(data_df['Timestamp'] >= start_date) & (data_df['Timestamp'] <= end_date)]\n",
    "\n",
    "df_filtered['YearWeek'] = df_filtered['Timestamp'].dt.to_period('W')\n",
    "\n",
    "def check_weekly_occurrences(group):\n",
    "    expected_weeks = pd.date_range(start=start_date, end=end_date, freq='W-MON').nunique()\n",
    "    unique_weeks = group['YearWeek'].nunique()\n",
    "    return unique_weeks == expected_weeks / 2\n",
    "\n",
    "weekly_occurrences = df_filtered.groupby(['Source', 'Destination']).filter(check_weekly_occurrences)\n",
    "\n",
    "summary = weekly_occurrences.drop_duplicates(subset=['Source', 'Destination'])\n",
    "\n",
    "print(f\"Year with the most records: {most_common_year}\")\n",
    "print(summary)\n"
   ]
  },
  {
   "cell_type": "code",
   "execution_count": null,
   "metadata": {},
   "outputs": [],
   "source": [
    "frequency = data_df.groupby(['Source', 'Destination'])['Timestamp'].transform(classify_frequency)\n",
    "data_df['Frequency'] = frequency\n"
   ]
  },
  {
   "cell_type": "code",
   "execution_count": null,
   "metadata": {},
   "outputs": [
    {
     "data": {
      "text/html": [
       "<div>\n",
       "<style scoped>\n",
       "    .dataframe tbody tr th:only-of-type {\n",
       "        vertical-align: middle;\n",
       "    }\n",
       "\n",
       "    .dataframe tbody tr th {\n",
       "        vertical-align: top;\n",
       "    }\n",
       "\n",
       "    .dataframe thead th {\n",
       "        text-align: right;\n",
       "    }\n",
       "</style>\n",
       "<table border=\"1\" class=\"dataframe\">\n",
       "  <thead>\n",
       "    <tr style=\"text-align: right;\">\n",
       "      <th></th>\n",
       "      <th>Source</th>\n",
       "      <th>Destination</th>\n",
       "      <th>Timestamp</th>\n",
       "      <th>Frequency</th>\n",
       "    </tr>\n",
       "  </thead>\n",
       "  <tbody>\n",
       "    <tr>\n",
       "      <th>0</th>\n",
       "      <td>0.0</td>\n",
       "      <td>1.0</td>\n",
       "      <td>1999-06-13</td>\n",
       "      <td>Single occurrence</td>\n",
       "    </tr>\n",
       "    <tr>\n",
       "      <th>1</th>\n",
       "      <td>2.0</td>\n",
       "      <td>3.0</td>\n",
       "      <td>1999-07-01</td>\n",
       "      <td>Single occurrence</td>\n",
       "    </tr>\n",
       "    <tr>\n",
       "      <th>2</th>\n",
       "      <td>4.0</td>\n",
       "      <td>1.0</td>\n",
       "      <td>1999-07-13</td>\n",
       "      <td>Single occurrence</td>\n",
       "    </tr>\n",
       "    <tr>\n",
       "      <th>3</th>\n",
       "      <td>5.0</td>\n",
       "      <td>6.0</td>\n",
       "      <td>1999-07-13</td>\n",
       "      <td>Single occurrence</td>\n",
       "    </tr>\n",
       "    <tr>\n",
       "      <th>4</th>\n",
       "      <td>7.0</td>\n",
       "      <td>8.0</td>\n",
       "      <td>1999-07-13</td>\n",
       "      <td>Single occurrence</td>\n",
       "    </tr>\n",
       "    <tr>\n",
       "      <th>...</th>\n",
       "      <td>...</td>\n",
       "      <td>...</td>\n",
       "      <td>...</td>\n",
       "      <td>...</td>\n",
       "    </tr>\n",
       "    <tr>\n",
       "      <th>4873535</th>\n",
       "      <td>257355.0</td>\n",
       "      <td>234180.0</td>\n",
       "      <td>2018-10-02</td>\n",
       "      <td>Single occurrence</td>\n",
       "    </tr>\n",
       "    <tr>\n",
       "      <th>4873536</th>\n",
       "      <td>195919.0</td>\n",
       "      <td>301073.0</td>\n",
       "      <td>2018-10-03</td>\n",
       "      <td>Single occurrence</td>\n",
       "    </tr>\n",
       "    <tr>\n",
       "      <th>4873537</th>\n",
       "      <td>143936.0</td>\n",
       "      <td>137681.0</td>\n",
       "      <td>2018-10-03</td>\n",
       "      <td>Single occurrence</td>\n",
       "    </tr>\n",
       "    <tr>\n",
       "      <th>4873538</th>\n",
       "      <td>70003.0</td>\n",
       "      <td>249788.0</td>\n",
       "      <td>2018-10-04</td>\n",
       "      <td>Single occurrence</td>\n",
       "    </tr>\n",
       "    <tr>\n",
       "      <th>4873539</th>\n",
       "      <td>51619.0</td>\n",
       "      <td>246086.0</td>\n",
       "      <td>2018-10-04</td>\n",
       "      <td>Single occurrence</td>\n",
       "    </tr>\n",
       "  </tbody>\n",
       "</table>\n",
       "<p>4873540 rows × 4 columns</p>\n",
       "</div>"
      ],
      "text/plain": [
       "           Source  Destination  Timestamp          Frequency\n",
       "0             0.0          1.0 1999-06-13  Single occurrence\n",
       "1             2.0          3.0 1999-07-01  Single occurrence\n",
       "2             4.0          1.0 1999-07-13  Single occurrence\n",
       "3             5.0          6.0 1999-07-13  Single occurrence\n",
       "4             7.0          8.0 1999-07-13  Single occurrence\n",
       "...           ...          ...        ...                ...\n",
       "4873535  257355.0     234180.0 2018-10-02  Single occurrence\n",
       "4873536  195919.0     301073.0 2018-10-03  Single occurrence\n",
       "4873537  143936.0     137681.0 2018-10-03  Single occurrence\n",
       "4873538   70003.0     249788.0 2018-10-04  Single occurrence\n",
       "4873539   51619.0     246086.0 2018-10-04  Single occurrence\n",
       "\n",
       "[4873540 rows x 4 columns]"
      ]
     },
     "execution_count": 22,
     "metadata": {},
     "output_type": "execute_result"
    }
   ],
   "source": [
    "data_df"
   ]
  },
  {
   "cell_type": "markdown",
   "metadata": {},
   "source": [
    "Now obtain only pairs that have daily interactions"
   ]
  },
  {
   "cell_type": "code",
   "execution_count": 23,
   "metadata": {},
   "outputs": [],
   "source": [
    "daily_occurrences = data_df[data_df['Frequency'] == 'Daily']"
   ]
  },
  {
   "cell_type": "code",
   "execution_count": 24,
   "metadata": {},
   "outputs": [
    {
     "data": {
      "text/html": [
       "<div>\n",
       "<style scoped>\n",
       "    .dataframe tbody tr th:only-of-type {\n",
       "        vertical-align: middle;\n",
       "    }\n",
       "\n",
       "    .dataframe tbody tr th {\n",
       "        vertical-align: top;\n",
       "    }\n",
       "\n",
       "    .dataframe thead th {\n",
       "        text-align: right;\n",
       "    }\n",
       "</style>\n",
       "<table border=\"1\" class=\"dataframe\">\n",
       "  <thead>\n",
       "    <tr style=\"text-align: right;\">\n",
       "      <th></th>\n",
       "      <th>Source</th>\n",
       "      <th>Destination</th>\n",
       "      <th>Timestamp</th>\n",
       "      <th>Frequency</th>\n",
       "    </tr>\n",
       "  </thead>\n",
       "  <tbody>\n",
       "    <tr>\n",
       "      <th>587</th>\n",
       "      <td>669.0</td>\n",
       "      <td>185.0</td>\n",
       "      <td>2000-08-01</td>\n",
       "      <td>Daily</td>\n",
       "    </tr>\n",
       "    <tr>\n",
       "      <th>588</th>\n",
       "      <td>669.0</td>\n",
       "      <td>100.0</td>\n",
       "      <td>2000-08-01</td>\n",
       "      <td>Daily</td>\n",
       "    </tr>\n",
       "    <tr>\n",
       "      <th>589</th>\n",
       "      <td>669.0</td>\n",
       "      <td>185.0</td>\n",
       "      <td>2000-08-01</td>\n",
       "      <td>Daily</td>\n",
       "    </tr>\n",
       "    <tr>\n",
       "      <th>590</th>\n",
       "      <td>669.0</td>\n",
       "      <td>100.0</td>\n",
       "      <td>2000-08-01</td>\n",
       "      <td>Daily</td>\n",
       "    </tr>\n",
       "    <tr>\n",
       "      <th>664</th>\n",
       "      <td>669.0</td>\n",
       "      <td>560.0</td>\n",
       "      <td>2000-08-17</td>\n",
       "      <td>Daily</td>\n",
       "    </tr>\n",
       "    <tr>\n",
       "      <th>...</th>\n",
       "      <td>...</td>\n",
       "      <td>...</td>\n",
       "      <td>...</td>\n",
       "      <td>...</td>\n",
       "    </tr>\n",
       "    <tr>\n",
       "      <th>4871920</th>\n",
       "      <td>154555.0</td>\n",
       "      <td>308688.0</td>\n",
       "      <td>2018-09-11</td>\n",
       "      <td>Daily</td>\n",
       "    </tr>\n",
       "    <tr>\n",
       "      <th>4871922</th>\n",
       "      <td>154555.0</td>\n",
       "      <td>308688.0</td>\n",
       "      <td>2018-09-11</td>\n",
       "      <td>Daily</td>\n",
       "    </tr>\n",
       "    <tr>\n",
       "      <th>4871923</th>\n",
       "      <td>154555.0</td>\n",
       "      <td>308688.0</td>\n",
       "      <td>2018-09-11</td>\n",
       "      <td>Daily</td>\n",
       "    </tr>\n",
       "    <tr>\n",
       "      <th>4871924</th>\n",
       "      <td>154555.0</td>\n",
       "      <td>308688.0</td>\n",
       "      <td>2018-09-11</td>\n",
       "      <td>Daily</td>\n",
       "    </tr>\n",
       "    <tr>\n",
       "      <th>4871928</th>\n",
       "      <td>154555.0</td>\n",
       "      <td>308688.0</td>\n",
       "      <td>2018-09-11</td>\n",
       "      <td>Daily</td>\n",
       "    </tr>\n",
       "  </tbody>\n",
       "</table>\n",
       "<p>268149 rows × 4 columns</p>\n",
       "</div>"
      ],
      "text/plain": [
       "           Source  Destination  Timestamp Frequency\n",
       "587         669.0        185.0 2000-08-01     Daily\n",
       "588         669.0        100.0 2000-08-01     Daily\n",
       "589         669.0        185.0 2000-08-01     Daily\n",
       "590         669.0        100.0 2000-08-01     Daily\n",
       "664         669.0        560.0 2000-08-17     Daily\n",
       "...           ...          ...        ...       ...\n",
       "4871920  154555.0     308688.0 2018-09-11     Daily\n",
       "4871922  154555.0     308688.0 2018-09-11     Daily\n",
       "4871923  154555.0     308688.0 2018-09-11     Daily\n",
       "4871924  154555.0     308688.0 2018-09-11     Daily\n",
       "4871928  154555.0     308688.0 2018-09-11     Daily\n",
       "\n",
       "[268149 rows x 4 columns]"
      ]
     },
     "execution_count": 24,
     "metadata": {},
     "output_type": "execute_result"
    }
   ],
   "source": [
    "daily_occurrences"
   ]
  },
  {
   "cell_type": "code",
   "execution_count": 25,
   "metadata": {},
   "outputs": [],
   "source": [
    "daily_occurrences.to_csv('datasets/tgbl-comment_daily_occurrences.csv', index=False)\n"
   ]
  },
  {
   "cell_type": "markdown",
   "metadata": {},
   "source": [
    "### Measure average period based on sequence length"
   ]
  },
  {
   "cell_type": "code",
   "execution_count": 55,
   "metadata": {},
   "outputs": [],
   "source": [
    "import numpy as np\n",
    "\n",
    "def compute_timeframe(dataset, seq_length, sample_size=100):\n",
    "    dataset['Timestamp'] = pd.to_numeric(dataset['Timestamp'])\n",
    "\n",
    "    unique_pairs = dataset[['Source', 'Destination']].drop_duplicates()\n",
    "    if len(unique_pairs) > sample_size:\n",
    "        sampled_pairs = unique_pairs.sample(n=sample_size, random_state=1)\n",
    "    else:\n",
    "        sampled_pairs = unique_pairs\n",
    "\n",
    "    all_periods = []\n",
    "\n",
    "    for _, pair in sampled_pairs.iterrows():\n",
    "        source = pair['Source']\n",
    "        destination = pair['Destination']\n",
    "\n",
    "        direct_interactions = dataset[((dataset['Source'] == source) & (dataset['Destination'] != destination)) |\n",
    "                                      ((dataset['Destination'] == destination) & (dataset['Source'] != source))]\n",
    "\n",
    "        latest_interaction_time = dataset[((dataset['Source'] == source) & (dataset['Destination'] == destination))]['Timestamp'].max()\n",
    "        past_interactions = direct_interactions[direct_interactions['Timestamp'] < latest_interaction_time]\n",
    "\n",
    "        if len(past_interactions) > seq_length:\n",
    "            oldest_interaction_timestamp = past_interactions['Timestamp'].min()\n",
    "            cur_period = latest_interaction_time - oldest_interaction_timestamp\n",
    "            all_periods.append(cur_period)\n",
    "\n",
    "    avg = np.mean(all_periods) if all_periods else 0\n",
    "\n",
    "    total_seconds = avg / 1000\n",
    "\n",
    "    days = int(total_seconds // (3600 * 24))\n",
    "    hours = int((total_seconds % (3600 * 24)) // 3600)\n",
    "    minutes = int((total_seconds % 3600) // 60)\n",
    "\n",
    "    return f'{days} days, {hours} hours, {minutes} minutes'\n"
   ]
  },
  {
   "cell_type": "code",
   "execution_count": 56,
   "metadata": {},
   "outputs": [],
   "source": [
    "seq_lengths = [2, 4, 8, 16, 32, 128, 512, 1024, 4096]"
   ]
  },
  {
   "cell_type": "code",
   "execution_count": 57,
   "metadata": {},
   "outputs": [
    {
     "name": "stdout",
     "output_type": "stream",
     "text": [
      "Average Timeframe for sequence length of 2: 0 days, 12 hours, 36 minutes\n",
      "Average Timeframe for sequence length of 4: 0 days, 12 hours, 36 minutes\n",
      "Average Timeframe for sequence length of 8: 0 days, 12 hours, 42 minutes\n",
      "Average Timeframe for sequence length of 16: 0 days, 12 hours, 49 minutes\n",
      "Average Timeframe for sequence length of 32: 0 days, 13 hours, 14 minutes\n",
      "Average Timeframe for sequence length of 128: 0 days, 14 hours, 14 minutes\n",
      "Average Timeframe for sequence length of 512: 0 days, 15 hours, 57 minutes\n",
      "Average Timeframe for sequence length of 1024: 0 days, 17 hours, 48 minutes\n",
      "Average Timeframe for sequence length of 4096: 0 days, 20 hours, 5 minutes\n"
     ]
    }
   ],
   "source": [
    "for seq_length in seq_lengths:\n",
    "\taverage_timeframe = compute_timeframe(data_df, seq_length)\n",
    "\tprint(f\"Average Timeframe for sequence length of {seq_length}: {average_timeframe}\")"
   ]
  },
  {
   "cell_type": "code",
   "execution_count": 63,
   "metadata": {},
   "outputs": [
    {
     "data": {
      "image/png": "[encoded data removed]",
      "text/plain": [
       "<Figure size 1000x600 with 1 Axes>"
      ]
     },
     "metadata": {},
     "output_type": "display_data"
    }
   ],
   "source": [
    "import matplotlib.pyplot as plt\n",
    "\n",
    "seq_lengths = [2, 4, 8, 16, 32, 128, 512, 1024, 4096]\n",
    "timeframes_new = [\n",
    "    0 * 24 + 12 + 36 / 60,\n",
    "    0 * 24 + 12 + 36 / 60,\n",
    "    0 * 24 + 12 + 42 / 60,\n",
    "    0 * 24 + 12 + 49 / 60,\n",
    "    0 * 24 + 13 + 14 / 60,\n",
    "    0 * 24 + 14 + 14 / 60,\n",
    "    0 * 24 + 15 + 57 / 60,\n",
    "    0 * 24 + 17 + 48 / 60,\n",
    "    0 * 24 + 20 + 5 / 60\n",
    "]\n",
    "\n",
    "total_hours_new = [timeframe for timeframe in timeframes_new]\n",
    "\n",
    "plt.figure(figsize=(10, 6))\n",
    "plt.plot(seq_lengths, total_hours_new, marker='o', linestyle='-', color='tomato')\n",
    "plt.title('Average Timeframe vs. Sequence Length (New Data)')\n",
    "plt.xlabel('Sequence Length')\n",
    "plt.ylabel('Average Timeframe (Hours)')\n",
    "plt.xticks(seq_lengths, seq_lengths)\n",
    "plt.grid(True)\n",
    "plt.show()"
   ]
  }
 ],
 "metadata": {
  "kernelspec": {
   "display_name": "Python 3",
   "language": "python",
   "name": "python3"
  },
  "language_info": {
   "codemirror_mode": {
    "name": "ipython",
    "version": 3
   },
   "file_extension": ".py",
   "mimetype": "text/x-python",
   "name": "python",
   "nbconvert_exporter": "python",
   "pygments_lexer": "ipython3",
   "version": "3.11.7"
  }
 },
 "nbformat": 4,
 "nbformat_minor": 2
}
