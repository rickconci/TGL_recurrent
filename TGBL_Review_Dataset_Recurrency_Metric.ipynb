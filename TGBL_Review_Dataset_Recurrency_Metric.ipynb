{
 "cells": [
  {
   "cell_type": "markdown",
   "metadata": {},
   "source": [
    "# Recurrency Metric for the tgbl-review dataset"
   ]
  },
  {
   "cell_type": "markdown",
   "metadata": {},
   "source": [
    "This notebook explores a recurrency metric for the tgbl-review dataset based on how often interaction between pairs of source and destination occur. It splits the interactions in groups based on frequncy of recurrence - 1 day, 1 week, 1 month etc. "
   ]
  },
  {
   "cell_type": "markdown",
   "metadata": {},
   "source": [
    "### Dataset Preparation"
   ]
  },
  {
   "cell_type": "code",
   "execution_count": 38,
   "metadata": {},
   "outputs": [],
   "source": [
    "from TGB.tgb.linkproppred.dataset import LinkPropPredDataset\n",
    "import pandas as pd"
   ]
  },
  {
   "cell_type": "code",
   "execution_count": 39,
   "metadata": {},
   "outputs": [
    {
     "name": "stdout",
     "output_type": "stream",
     "text": [
      "raw file found, skipping download\n",
      "Dataset directory is  /opt/homebrew/lib/python3.11/site-packages/tgb/./Datasets/tgbl_review\n",
      "loading processed file\n"
     ]
    }
   ],
   "source": [
    "name = \"tgbl-review\"\n",
    "dataset = LinkPropPredDataset(name=name, root=\"./Datasets\", preprocess=True)\n",
    "data = dataset.full_data\n",
    "\n",
    "data_df = pd.DataFrame([data['sources'], data['destinations'], data['timestamps']]).T\n",
    "data_df.columns = ['Source', 'Destination', 'Timestamp']"
   ]
  },
  {
   "cell_type": "code",
   "execution_count": 40,
   "metadata": {},
   "outputs": [
    {
     "data": {
      "text/html": [
       "<div>\n",
       "<style scoped>\n",
       "    .dataframe tbody tr th:only-of-type {\n",
       "        vertical-align: middle;\n",
       "    }\n",
       "\n",
       "    .dataframe tbody tr th {\n",
       "        vertical-align: top;\n",
       "    }\n",
       "\n",
       "    .dataframe thead th {\n",
       "        text-align: right;\n",
       "    }\n",
       "</style>\n",
       "<table border=\"1\" class=\"dataframe\">\n",
       "  <thead>\n",
       "    <tr style=\"text-align: right;\">\n",
       "      <th></th>\n",
       "      <th>Source</th>\n",
       "      <th>Destination</th>\n",
       "      <th>Timestamp</th>\n",
       "    </tr>\n",
       "  </thead>\n",
       "  <tbody>\n",
       "    <tr>\n",
       "      <th>0</th>\n",
       "      <td>0.0</td>\n",
       "      <td>1.0</td>\n",
       "      <td>9.292320e+08</td>\n",
       "    </tr>\n",
       "    <tr>\n",
       "      <th>1</th>\n",
       "      <td>2.0</td>\n",
       "      <td>3.0</td>\n",
       "      <td>9.307872e+08</td>\n",
       "    </tr>\n",
       "    <tr>\n",
       "      <th>2</th>\n",
       "      <td>4.0</td>\n",
       "      <td>1.0</td>\n",
       "      <td>9.318240e+08</td>\n",
       "    </tr>\n",
       "    <tr>\n",
       "      <th>3</th>\n",
       "      <td>5.0</td>\n",
       "      <td>6.0</td>\n",
       "      <td>9.318240e+08</td>\n",
       "    </tr>\n",
       "    <tr>\n",
       "      <th>4</th>\n",
       "      <td>7.0</td>\n",
       "      <td>8.0</td>\n",
       "      <td>9.318240e+08</td>\n",
       "    </tr>\n",
       "    <tr>\n",
       "      <th>...</th>\n",
       "      <td>...</td>\n",
       "      <td>...</td>\n",
       "      <td>...</td>\n",
       "    </tr>\n",
       "    <tr>\n",
       "      <th>4873535</th>\n",
       "      <td>257355.0</td>\n",
       "      <td>234180.0</td>\n",
       "      <td>1.538438e+09</td>\n",
       "    </tr>\n",
       "    <tr>\n",
       "      <th>4873536</th>\n",
       "      <td>195919.0</td>\n",
       "      <td>301073.0</td>\n",
       "      <td>1.538525e+09</td>\n",
       "    </tr>\n",
       "    <tr>\n",
       "      <th>4873537</th>\n",
       "      <td>143936.0</td>\n",
       "      <td>137681.0</td>\n",
       "      <td>1.538525e+09</td>\n",
       "    </tr>\n",
       "    <tr>\n",
       "      <th>4873538</th>\n",
       "      <td>70003.0</td>\n",
       "      <td>249788.0</td>\n",
       "      <td>1.538611e+09</td>\n",
       "    </tr>\n",
       "    <tr>\n",
       "      <th>4873539</th>\n",
       "      <td>51619.0</td>\n",
       "      <td>246086.0</td>\n",
       "      <td>1.538611e+09</td>\n",
       "    </tr>\n",
       "  </tbody>\n",
       "</table>\n",
       "<p>4873540 rows × 3 columns</p>\n",
       "</div>"
      ],
      "text/plain": [
       "           Source  Destination     Timestamp\n",
       "0             0.0          1.0  9.292320e+08\n",
       "1             2.0          3.0  9.307872e+08\n",
       "2             4.0          1.0  9.318240e+08\n",
       "3             5.0          6.0  9.318240e+08\n",
       "4             7.0          8.0  9.318240e+08\n",
       "...           ...          ...           ...\n",
       "4873535  257355.0     234180.0  1.538438e+09\n",
       "4873536  195919.0     301073.0  1.538525e+09\n",
       "4873537  143936.0     137681.0  1.538525e+09\n",
       "4873538   70003.0     249788.0  1.538611e+09\n",
       "4873539   51619.0     246086.0  1.538611e+09\n",
       "\n",
       "[4873540 rows x 3 columns]"
      ]
     },
     "execution_count": 40,
     "metadata": {},
     "output_type": "execute_result"
    }
   ],
   "source": [
    "data_df"
   ]
  },
  {
   "cell_type": "markdown",
   "metadata": {},
   "source": [
    "### Recurrency Metric based on Interaction Frequency"
   ]
  },
  {
   "cell_type": "code",
   "execution_count": 15,
   "metadata": {},
   "outputs": [],
   "source": [
    "data_df['Timestamp'] = pd.to_datetime(data_df['Timestamp'], unit='s')"
   ]
  },
  {
   "cell_type": "code",
   "execution_count": 30,
   "metadata": {},
   "outputs": [
    {
     "name": "stderr",
     "output_type": "stream",
     "text": [
      "/var/folders/j9/gr3m7ly52mx4hfzpzdtzzfg40000gn/T/ipykernel_89750/1822288608.py:8: SettingWithCopyWarning: \n",
      "A value is trying to be set on a copy of a slice from a DataFrame.\n",
      "Try using .loc[row_indexer,col_indexer] = value instead\n",
      "\n",
      "See the caveats in the documentation: https://pandas.pydata.org/pandas-docs/stable/user_guide/indexing.html#returning-a-view-versus-a-copy\n",
      "  df_filtered['YearWeek'] = df_filtered['Timestamp'].dt.to_period('W')\n"
     ]
    },
    {
     "name": "stdout",
     "output_type": "stream",
     "text": [
      "Year with the most records: 2015\n",
      "Empty DataFrame\n",
      "Columns: [Source, Destination, Timestamp, Year, YearWeek]\n",
      "Index: []\n"
     ]
    }
   ],
   "source": [
    "data_df['Year'] = data_df['Timestamp'].dt.year\n",
    "most_common_year = data_df['Year'].value_counts().idxmax()\n",
    "\n",
    "start_date = pd.Timestamp(year=most_common_year, month=1, day=1)\n",
    "end_date = pd.Timestamp(year=most_common_year, month=3, day=31)\n",
    "df_filtered = data_df[(data_df['Timestamp'] >= start_date) & (data_df['Timestamp'] <= end_date)]\n",
    "\n",
    "df_filtered['YearWeek'] = df_filtered['Timestamp'].dt.to_period('W')\n",
    "\n",
    "def check_weekly_occurrences(group):\n",
    "    expected_weeks = pd.date_range(start=start_date, end=end_date, freq='W-MON').nunique()\n",
    "    unique_weeks = group['YearWeek'].nunique()\n",
    "    return unique_weeks == expected_weeks / 2\n",
    "\n",
    "weekly_occurrences = df_filtered.groupby(['Source', 'Destination']).filter(check_weekly_occurrences)\n",
    "\n",
    "summary = weekly_occurrences.drop_duplicates(subset=['Source', 'Destination'])\n",
    "\n",
    "print(f\"Year with the most records: {most_common_year}\")\n",
    "print(summary)"
   ]
  },
  {
   "cell_type": "code",
   "execution_count": 29,
   "metadata": {},
   "outputs": [
    {
     "name": "stderr",
     "output_type": "stream",
     "text": [
      "/var/folders/j9/gr3m7ly52mx4hfzpzdtzzfg40000gn/T/ipykernel_89750/3120860158.py:5: SettingWithCopyWarning: \n",
      "A value is trying to be set on a copy of a slice from a DataFrame.\n",
      "Try using .loc[row_indexer,col_indexer] = value instead\n",
      "\n",
      "See the caveats in the documentation: https://pandas.pydata.org/pandas-docs/stable/user_guide/indexing.html#returning-a-view-versus-a-copy\n",
      "  df_filtered['YearMonth'] = df_filtered['Timestamp'].dt.to_period('M')\n"
     ]
    },
    {
     "name": "stdout",
     "output_type": "stream",
     "text": [
      "           Source  Destination  Timestamp  Year YearMonth\n",
      "1919193  133197.0     150489.0 2015-01-05  2015   2015-01\n",
      "1922440  269567.0     158789.0 2015-01-06  2015   2015-01\n",
      "1924553  194963.0     149123.0 2015-01-07  2015   2015-01\n",
      "1925655   13179.0     121031.0 2015-01-07  2015   2015-01\n",
      "1925934  179066.0     242150.0 2015-01-07  2015   2015-01\n",
      "...           ...          ...        ...   ...       ...\n",
      "2081909  213310.0     222245.0 2015-02-25  2015   2015-02\n",
      "2082537  312258.0     244894.0 2015-02-25  2015   2015-02\n",
      "2084530   83401.0      79841.0 2015-02-26  2015   2015-02\n",
      "2086926   53510.0     240722.0 2015-02-26  2015   2015-02\n",
      "2091793  118566.0     172336.0 2015-02-28  2015   2015-02\n",
      "\n",
      "[77 rows x 5 columns]\n"
     ]
    }
   ],
   "source": [
    "start_date = \"2015-01-01\"\n",
    "end_date = \"2015-03-31\"\n",
    "df_filtered = data_df[(data_df['Timestamp'] >= start_date) & (data_df['Timestamp'] <= end_date)]\n",
    "\n",
    "df_filtered['YearMonth'] = df_filtered['Timestamp'].dt.to_period('M')\n",
    "\n",
    "def check_monthly_occurrences(group):\n",
    "    unique_months = group['YearMonth'].nunique()\n",
    "    return unique_months == 2\n",
    "\n",
    "monthly_occurrences = df_filtered.groupby(['Source', 'Destination']).filter(check_monthly_occurrences)\n",
    "\n",
    "summary = monthly_occurrences.drop_duplicates(subset=['Source', 'Destination'])\n",
    "\n",
    "print(summary)\n"
   ]
  },
  {
   "cell_type": "code",
   "execution_count": 21,
   "metadata": {},
   "outputs": [],
   "source": [
    "frequency = data_df.groupby(['Source', 'Destination'])['Timestamp'].transform(classify_frequency)\n",
    "data_df['Frequency'] = frequency\n"
   ]
  },
  {
   "cell_type": "code",
   "execution_count": 22,
   "metadata": {},
   "outputs": [
    {
     "data": {
      "text/html": [
       "<div>\n",
       "<style scoped>\n",
       "    .dataframe tbody tr th:only-of-type {\n",
       "        vertical-align: middle;\n",
       "    }\n",
       "\n",
       "    .dataframe tbody tr th {\n",
       "        vertical-align: top;\n",
       "    }\n",
       "\n",
       "    .dataframe thead th {\n",
       "        text-align: right;\n",
       "    }\n",
       "</style>\n",
       "<table border=\"1\" class=\"dataframe\">\n",
       "  <thead>\n",
       "    <tr style=\"text-align: right;\">\n",
       "      <th></th>\n",
       "      <th>Source</th>\n",
       "      <th>Destination</th>\n",
       "      <th>Timestamp</th>\n",
       "      <th>Frequency</th>\n",
       "    </tr>\n",
       "  </thead>\n",
       "  <tbody>\n",
       "    <tr>\n",
       "      <th>0</th>\n",
       "      <td>0.0</td>\n",
       "      <td>1.0</td>\n",
       "      <td>1999-06-13</td>\n",
       "      <td>Single occurrence</td>\n",
       "    </tr>\n",
       "    <tr>\n",
       "      <th>1</th>\n",
       "      <td>2.0</td>\n",
       "      <td>3.0</td>\n",
       "      <td>1999-07-01</td>\n",
       "      <td>Single occurrence</td>\n",
       "    </tr>\n",
       "    <tr>\n",
       "      <th>2</th>\n",
       "      <td>4.0</td>\n",
       "      <td>1.0</td>\n",
       "      <td>1999-07-13</td>\n",
       "      <td>Single occurrence</td>\n",
       "    </tr>\n",
       "    <tr>\n",
       "      <th>3</th>\n",
       "      <td>5.0</td>\n",
       "      <td>6.0</td>\n",
       "      <td>1999-07-13</td>\n",
       "      <td>Single occurrence</td>\n",
       "    </tr>\n",
       "    <tr>\n",
       "      <th>4</th>\n",
       "      <td>7.0</td>\n",
       "      <td>8.0</td>\n",
       "      <td>1999-07-13</td>\n",
       "      <td>Single occurrence</td>\n",
       "    </tr>\n",
       "    <tr>\n",
       "      <th>...</th>\n",
       "      <td>...</td>\n",
       "      <td>...</td>\n",
       "      <td>...</td>\n",
       "      <td>...</td>\n",
       "    </tr>\n",
       "    <tr>\n",
       "      <th>4873535</th>\n",
       "      <td>257355.0</td>\n",
       "      <td>234180.0</td>\n",
       "      <td>2018-10-02</td>\n",
       "      <td>Single occurrence</td>\n",
       "    </tr>\n",
       "    <tr>\n",
       "      <th>4873536</th>\n",
       "      <td>195919.0</td>\n",
       "      <td>301073.0</td>\n",
       "      <td>2018-10-03</td>\n",
       "      <td>Single occurrence</td>\n",
       "    </tr>\n",
       "    <tr>\n",
       "      <th>4873537</th>\n",
       "      <td>143936.0</td>\n",
       "      <td>137681.0</td>\n",
       "      <td>2018-10-03</td>\n",
       "      <td>Single occurrence</td>\n",
       "    </tr>\n",
       "    <tr>\n",
       "      <th>4873538</th>\n",
       "      <td>70003.0</td>\n",
       "      <td>249788.0</td>\n",
       "      <td>2018-10-04</td>\n",
       "      <td>Single occurrence</td>\n",
       "    </tr>\n",
       "    <tr>\n",
       "      <th>4873539</th>\n",
       "      <td>51619.0</td>\n",
       "      <td>246086.0</td>\n",
       "      <td>2018-10-04</td>\n",
       "      <td>Single occurrence</td>\n",
       "    </tr>\n",
       "  </tbody>\n",
       "</table>\n",
       "<p>4873540 rows × 4 columns</p>\n",
       "</div>"
      ],
      "text/plain": [
       "           Source  Destination  Timestamp          Frequency\n",
       "0             0.0          1.0 1999-06-13  Single occurrence\n",
       "1             2.0          3.0 1999-07-01  Single occurrence\n",
       "2             4.0          1.0 1999-07-13  Single occurrence\n",
       "3             5.0          6.0 1999-07-13  Single occurrence\n",
       "4             7.0          8.0 1999-07-13  Single occurrence\n",
       "...           ...          ...        ...                ...\n",
       "4873535  257355.0     234180.0 2018-10-02  Single occurrence\n",
       "4873536  195919.0     301073.0 2018-10-03  Single occurrence\n",
       "4873537  143936.0     137681.0 2018-10-03  Single occurrence\n",
       "4873538   70003.0     249788.0 2018-10-04  Single occurrence\n",
       "4873539   51619.0     246086.0 2018-10-04  Single occurrence\n",
       "\n",
       "[4873540 rows x 4 columns]"
      ]
     },
     "execution_count": 22,
     "metadata": {},
     "output_type": "execute_result"
    }
   ],
   "source": [
    "data_df"
   ]
  },
  {
   "cell_type": "markdown",
   "metadata": {},
   "source": [
    "Now obtain only pairs that have daily interactions"
   ]
  },
  {
   "cell_type": "code",
   "execution_count": 23,
   "metadata": {},
   "outputs": [],
   "source": [
    "daily_occurrences = data_df[data_df['Frequency'] == 'Daily']"
   ]
  },
  {
   "cell_type": "code",
   "execution_count": 24,
   "metadata": {},
   "outputs": [
    {
     "data": {
      "text/html": [
       "<div>\n",
       "<style scoped>\n",
       "    .dataframe tbody tr th:only-of-type {\n",
       "        vertical-align: middle;\n",
       "    }\n",
       "\n",
       "    .dataframe tbody tr th {\n",
       "        vertical-align: top;\n",
       "    }\n",
       "\n",
       "    .dataframe thead th {\n",
       "        text-align: right;\n",
       "    }\n",
       "</style>\n",
       "<table border=\"1\" class=\"dataframe\">\n",
       "  <thead>\n",
       "    <tr style=\"text-align: right;\">\n",
       "      <th></th>\n",
       "      <th>Source</th>\n",
       "      <th>Destination</th>\n",
       "      <th>Timestamp</th>\n",
       "      <th>Frequency</th>\n",
       "    </tr>\n",
       "  </thead>\n",
       "  <tbody>\n",
       "    <tr>\n",
       "      <th>587</th>\n",
       "      <td>669.0</td>\n",
       "      <td>185.0</td>\n",
       "      <td>2000-08-01</td>\n",
       "      <td>Daily</td>\n",
       "    </tr>\n",
       "    <tr>\n",
       "      <th>588</th>\n",
       "      <td>669.0</td>\n",
       "      <td>100.0</td>\n",
       "      <td>2000-08-01</td>\n",
       "      <td>Daily</td>\n",
       "    </tr>\n",
       "    <tr>\n",
       "      <th>589</th>\n",
       "      <td>669.0</td>\n",
       "      <td>185.0</td>\n",
       "      <td>2000-08-01</td>\n",
       "      <td>Daily</td>\n",
       "    </tr>\n",
       "    <tr>\n",
       "      <th>590</th>\n",
       "      <td>669.0</td>\n",
       "      <td>100.0</td>\n",
       "      <td>2000-08-01</td>\n",
       "      <td>Daily</td>\n",
       "    </tr>\n",
       "    <tr>\n",
       "      <th>664</th>\n",
       "      <td>669.0</td>\n",
       "      <td>560.0</td>\n",
       "      <td>2000-08-17</td>\n",
       "      <td>Daily</td>\n",
       "    </tr>\n",
       "    <tr>\n",
       "      <th>...</th>\n",
       "      <td>...</td>\n",
       "      <td>...</td>\n",
       "      <td>...</td>\n",
       "      <td>...</td>\n",
       "    </tr>\n",
       "    <tr>\n",
       "      <th>4871920</th>\n",
       "      <td>154555.0</td>\n",
       "      <td>308688.0</td>\n",
       "      <td>2018-09-11</td>\n",
       "      <td>Daily</td>\n",
       "    </tr>\n",
       "    <tr>\n",
       "      <th>4871922</th>\n",
       "      <td>154555.0</td>\n",
       "      <td>308688.0</td>\n",
       "      <td>2018-09-11</td>\n",
       "      <td>Daily</td>\n",
       "    </tr>\n",
       "    <tr>\n",
       "      <th>4871923</th>\n",
       "      <td>154555.0</td>\n",
       "      <td>308688.0</td>\n",
       "      <td>2018-09-11</td>\n",
       "      <td>Daily</td>\n",
       "    </tr>\n",
       "    <tr>\n",
       "      <th>4871924</th>\n",
       "      <td>154555.0</td>\n",
       "      <td>308688.0</td>\n",
       "      <td>2018-09-11</td>\n",
       "      <td>Daily</td>\n",
       "    </tr>\n",
       "    <tr>\n",
       "      <th>4871928</th>\n",
       "      <td>154555.0</td>\n",
       "      <td>308688.0</td>\n",
       "      <td>2018-09-11</td>\n",
       "      <td>Daily</td>\n",
       "    </tr>\n",
       "  </tbody>\n",
       "</table>\n",
       "<p>268149 rows × 4 columns</p>\n",
       "</div>"
      ],
      "text/plain": [
       "           Source  Destination  Timestamp Frequency\n",
       "587         669.0        185.0 2000-08-01     Daily\n",
       "588         669.0        100.0 2000-08-01     Daily\n",
       "589         669.0        185.0 2000-08-01     Daily\n",
       "590         669.0        100.0 2000-08-01     Daily\n",
       "664         669.0        560.0 2000-08-17     Daily\n",
       "...           ...          ...        ...       ...\n",
       "4871920  154555.0     308688.0 2018-09-11     Daily\n",
       "4871922  154555.0     308688.0 2018-09-11     Daily\n",
       "4871923  154555.0     308688.0 2018-09-11     Daily\n",
       "4871924  154555.0     308688.0 2018-09-11     Daily\n",
       "4871928  154555.0     308688.0 2018-09-11     Daily\n",
       "\n",
       "[268149 rows x 4 columns]"
      ]
     },
     "execution_count": 24,
     "metadata": {},
     "output_type": "execute_result"
    }
   ],
   "source": [
    "daily_occurrences"
   ]
  },
  {
   "cell_type": "code",
   "execution_count": 25,
   "metadata": {},
   "outputs": [],
   "source": [
    "daily_occurrences.to_csv('datasets/tgbl-review_daily_occurrences.csv', index=False)\n"
   ]
  },
  {
   "cell_type": "markdown",
   "metadata": {},
   "source": [
    "### Measure average period based on sequence length"
   ]
  },
  {
   "cell_type": "code",
   "execution_count": 41,
   "metadata": {},
   "outputs": [],
   "source": [
    "def compute_timeframe(dataset, seq_length):\n",
    "    dataset_sorted = dataset.sort_values('Timestamp', ascending=False)\n",
    "\n",
    "    all_periods = []\n",
    "    for _, row in dataset_sorted.iterrows():\n",
    "        current_source = row['Source']\n",
    "        current_destination = row['Destination']\n",
    "        current_timestamp = row['Timestamp']\n",
    "\n",
    "        neighbor_interactions = dataset_sorted[((dataset_sorted['Source'] == current_source) |\n",
    "                                                (dataset_sorted['Destination'] == current_source) |\n",
    "                                                (dataset_sorted['Source'] == current_destination) |\n",
    "                                                (dataset_sorted['Destination'] == current_destination)) &\n",
    "                                               (dataset_sorted['Timestamp'] < current_timestamp)]\n",
    "\n",
    "        num_neighbor_interactions = neighbor_interactions.shape[0]\n",
    "\n",
    "        if num_neighbor_interactions > seq_length:\n",
    "            oldest_interaction_timestamp = neighbor_interactions['Timestamp'].min()\n",
    "\n",
    "            cur_period = current_timestamp - oldest_interaction_timestamp\n",
    "            all_periods.append(cur_period)\n",
    "\n",
    "    return sum(all_periods) / len(all_periods) if all_periods else 0\n"
   ]
  },
  {
   "cell_type": "code",
   "execution_count": 42,
   "metadata": {},
   "outputs": [],
   "source": [
    "seq_lengths = [8, 16, 32, 128, 512, 1024, 4096]"
   ]
  },
  {
   "cell_type": "code",
   "execution_count": 43,
   "metadata": {},
   "outputs": [
    {
     "ename": "KeyboardInterrupt",
     "evalue": "",
     "output_type": "error",
     "traceback": [
      "\u001b[0;31m---------------------------------------------------------------------------\u001b[0m",
      "\u001b[0;31mKeyboardInterrupt\u001b[0m                         Traceback (most recent call last)",
      "Cell \u001b[0;32mIn[43], line 2\u001b[0m\n\u001b[1;32m      1\u001b[0m \u001b[38;5;28;01mfor\u001b[39;00m seq_length \u001b[38;5;129;01min\u001b[39;00m seq_lengths:\n\u001b[0;32m----> 2\u001b[0m \taverage_timeframe \u001b[38;5;241m=\u001b[39m \u001b[43mcompute_timeframe\u001b[49m\u001b[43m(\u001b[49m\u001b[43mdata_df\u001b[49m\u001b[43m,\u001b[49m\u001b[43m \u001b[49m\u001b[43mseq_length\u001b[49m\u001b[43m)\u001b[49m\n\u001b[1;32m      3\u001b[0m \t\u001b[38;5;28mprint\u001b[39m(\u001b[38;5;124mf\u001b[39m\u001b[38;5;124m\"\u001b[39m\u001b[38;5;124mAverage Timeframe for sequence length of \u001b[39m\u001b[38;5;132;01m{\u001b[39;00mseq_length\u001b[38;5;132;01m}\u001b[39;00m\u001b[38;5;124m: \u001b[39m\u001b[38;5;132;01m{\u001b[39;00maverage_timeframe\u001b[38;5;132;01m}\u001b[39;00m\u001b[38;5;124m\"\u001b[39m)\n",
      "Cell \u001b[0;32mIn[41], line 14\u001b[0m, in \u001b[0;36mcompute_timeframe\u001b[0;34m(dataset, seq_length)\u001b[0m\n\u001b[1;32m      7\u001b[0m current_destination \u001b[38;5;241m=\u001b[39m row[\u001b[38;5;124m'\u001b[39m\u001b[38;5;124mDestination\u001b[39m\u001b[38;5;124m'\u001b[39m]\n\u001b[1;32m      8\u001b[0m current_timestamp \u001b[38;5;241m=\u001b[39m row[\u001b[38;5;124m'\u001b[39m\u001b[38;5;124mTimestamp\u001b[39m\u001b[38;5;124m'\u001b[39m]\n\u001b[1;32m     10\u001b[0m neighbor_interactions \u001b[38;5;241m=\u001b[39m dataset_sorted[((dataset_sorted[\u001b[38;5;124m'\u001b[39m\u001b[38;5;124mSource\u001b[39m\u001b[38;5;124m'\u001b[39m] \u001b[38;5;241m==\u001b[39m current_source) \u001b[38;5;241m|\u001b[39m \n\u001b[1;32m     11\u001b[0m                                         (dataset_sorted[\u001b[38;5;124m'\u001b[39m\u001b[38;5;124mDestination\u001b[39m\u001b[38;5;124m'\u001b[39m] \u001b[38;5;241m==\u001b[39m current_source) \u001b[38;5;241m|\u001b[39m \n\u001b[1;32m     12\u001b[0m                                         (dataset_sorted[\u001b[38;5;124m'\u001b[39m\u001b[38;5;124mSource\u001b[39m\u001b[38;5;124m'\u001b[39m] \u001b[38;5;241m==\u001b[39m current_destination) \u001b[38;5;241m|\u001b[39m \n\u001b[1;32m     13\u001b[0m                                         (dataset_sorted[\u001b[38;5;124m'\u001b[39m\u001b[38;5;124mDestination\u001b[39m\u001b[38;5;124m'\u001b[39m] \u001b[38;5;241m==\u001b[39m current_destination)) \u001b[38;5;241m&\u001b[39m \n\u001b[0;32m---> 14\u001b[0m                                        (\u001b[43mdataset_sorted\u001b[49m\u001b[43m[\u001b[49m\u001b[38;5;124;43m'\u001b[39;49m\u001b[38;5;124;43mTimestamp\u001b[39;49m\u001b[38;5;124;43m'\u001b[39;49m\u001b[43m]\u001b[49m\u001b[43m \u001b[49m\u001b[38;5;241;43m<\u001b[39;49m\u001b[43m \u001b[49m\u001b[43mcurrent_timestamp\u001b[49m)]\n\u001b[1;32m     16\u001b[0m num_neighbor_interactions \u001b[38;5;241m=\u001b[39m neighbor_interactions\u001b[38;5;241m.\u001b[39mshape[\u001b[38;5;241m0\u001b[39m]\n\u001b[1;32m     18\u001b[0m \u001b[38;5;28;01mif\u001b[39;00m num_neighbor_interactions \u001b[38;5;241m>\u001b[39m seq_length:\n",
      "File \u001b[0;32m/opt/homebrew/lib/python3.11/site-packages/pandas/core/ops/common.py:72\u001b[0m, in \u001b[0;36m_unpack_zerodim_and_defer.<locals>.new_method\u001b[0;34m(self, other)\u001b[0m\n\u001b[1;32m     68\u001b[0m             \u001b[38;5;28;01mreturn\u001b[39;00m \u001b[38;5;28mNotImplemented\u001b[39m\n\u001b[1;32m     70\u001b[0m other \u001b[38;5;241m=\u001b[39m item_from_zerodim(other)\n\u001b[0;32m---> 72\u001b[0m \u001b[38;5;28;01mreturn\u001b[39;00m \u001b[43mmethod\u001b[49m\u001b[43m(\u001b[49m\u001b[38;5;28;43mself\u001b[39;49m\u001b[43m,\u001b[49m\u001b[43m \u001b[49m\u001b[43mother\u001b[49m\u001b[43m)\u001b[49m\n",
      "File \u001b[0;32m/opt/homebrew/lib/python3.11/site-packages/pandas/core/arraylike.py:50\u001b[0m, in \u001b[0;36mOpsMixin.__lt__\u001b[0;34m(self, other)\u001b[0m\n\u001b[1;32m     48\u001b[0m \u001b[38;5;129m@unpack_zerodim_and_defer\u001b[39m(\u001b[38;5;124m\"\u001b[39m\u001b[38;5;124m__lt__\u001b[39m\u001b[38;5;124m\"\u001b[39m)\n\u001b[1;32m     49\u001b[0m \u001b[38;5;28;01mdef\u001b[39;00m \u001b[38;5;21m__lt__\u001b[39m(\u001b[38;5;28mself\u001b[39m, other):\n\u001b[0;32m---> 50\u001b[0m     \u001b[38;5;28;01mreturn\u001b[39;00m \u001b[38;5;28;43mself\u001b[39;49m\u001b[38;5;241;43m.\u001b[39;49m\u001b[43m_cmp_method\u001b[49m\u001b[43m(\u001b[49m\u001b[43mother\u001b[49m\u001b[43m,\u001b[49m\u001b[43m \u001b[49m\u001b[43moperator\u001b[49m\u001b[38;5;241;43m.\u001b[39;49m\u001b[43mlt\u001b[49m\u001b[43m)\u001b[49m\n",
      "File \u001b[0;32m/opt/homebrew/lib/python3.11/site-packages/pandas/core/series.py:6243\u001b[0m, in \u001b[0;36mSeries._cmp_method\u001b[0;34m(self, other, op)\u001b[0m\n\u001b[1;32m   6240\u001b[0m rvalues \u001b[38;5;241m=\u001b[39m extract_array(other, extract_numpy\u001b[38;5;241m=\u001b[39m\u001b[38;5;28;01mTrue\u001b[39;00m, extract_range\u001b[38;5;241m=\u001b[39m\u001b[38;5;28;01mTrue\u001b[39;00m)\n\u001b[1;32m   6242\u001b[0m \u001b[38;5;28;01mwith\u001b[39;00m np\u001b[38;5;241m.\u001b[39merrstate(\u001b[38;5;28mall\u001b[39m\u001b[38;5;241m=\u001b[39m\u001b[38;5;124m\"\u001b[39m\u001b[38;5;124mignore\u001b[39m\u001b[38;5;124m\"\u001b[39m):\n\u001b[0;32m-> 6243\u001b[0m     res_values \u001b[38;5;241m=\u001b[39m \u001b[43mops\u001b[49m\u001b[38;5;241;43m.\u001b[39;49m\u001b[43mcomparison_op\u001b[49m\u001b[43m(\u001b[49m\u001b[43mlvalues\u001b[49m\u001b[43m,\u001b[49m\u001b[43m \u001b[49m\u001b[43mrvalues\u001b[49m\u001b[43m,\u001b[49m\u001b[43m \u001b[49m\u001b[43mop\u001b[49m\u001b[43m)\u001b[49m\n\u001b[1;32m   6245\u001b[0m \u001b[38;5;28;01mreturn\u001b[39;00m \u001b[38;5;28mself\u001b[39m\u001b[38;5;241m.\u001b[39m_construct_result(res_values, name\u001b[38;5;241m=\u001b[39mres_name)\n",
      "File \u001b[0;32m/opt/homebrew/lib/python3.11/site-packages/pandas/core/ops/array_ops.py:290\u001b[0m, in \u001b[0;36mcomparison_op\u001b[0;34m(left, right, op)\u001b[0m\n\u001b[1;32m    287\u001b[0m     res_values \u001b[38;5;241m=\u001b[39m comp_method_OBJECT_ARRAY(op, lvalues, rvalues)\n\u001b[1;32m    289\u001b[0m \u001b[38;5;28;01melse\u001b[39;00m:\n\u001b[0;32m--> 290\u001b[0m     res_values \u001b[38;5;241m=\u001b[39m \u001b[43m_na_arithmetic_op\u001b[49m\u001b[43m(\u001b[49m\u001b[43mlvalues\u001b[49m\u001b[43m,\u001b[49m\u001b[43m \u001b[49m\u001b[43mrvalues\u001b[49m\u001b[43m,\u001b[49m\u001b[43m \u001b[49m\u001b[43mop\u001b[49m\u001b[43m,\u001b[49m\u001b[43m \u001b[49m\u001b[43mis_cmp\u001b[49m\u001b[38;5;241;43m=\u001b[39;49m\u001b[38;5;28;43;01mTrue\u001b[39;49;00m\u001b[43m)\u001b[49m\n\u001b[1;32m    292\u001b[0m \u001b[38;5;28;01mreturn\u001b[39;00m res_values\n",
      "File \u001b[0;32m/opt/homebrew/lib/python3.11/site-packages/pandas/core/ops/array_ops.py:165\u001b[0m, in \u001b[0;36m_na_arithmetic_op\u001b[0;34m(left, right, op, is_cmp)\u001b[0m\n\u001b[1;32m    162\u001b[0m     func \u001b[38;5;241m=\u001b[39m partial(expressions\u001b[38;5;241m.\u001b[39mevaluate, op)\n\u001b[1;32m    164\u001b[0m \u001b[38;5;28;01mtry\u001b[39;00m:\n\u001b[0;32m--> 165\u001b[0m     result \u001b[38;5;241m=\u001b[39m \u001b[43mfunc\u001b[49m\u001b[43m(\u001b[49m\u001b[43mleft\u001b[49m\u001b[43m,\u001b[49m\u001b[43m \u001b[49m\u001b[43mright\u001b[49m\u001b[43m)\u001b[49m\n\u001b[1;32m    166\u001b[0m \u001b[38;5;28;01mexcept\u001b[39;00m \u001b[38;5;167;01mTypeError\u001b[39;00m:\n\u001b[1;32m    167\u001b[0m     \u001b[38;5;28;01mif\u001b[39;00m \u001b[38;5;129;01mnot\u001b[39;00m is_cmp \u001b[38;5;129;01mand\u001b[39;00m (is_object_dtype(left\u001b[38;5;241m.\u001b[39mdtype) \u001b[38;5;129;01mor\u001b[39;00m is_object_dtype(right)):\n\u001b[1;32m    168\u001b[0m         \u001b[38;5;66;03m# For object dtype, fallback to a masked operation (only operating\u001b[39;00m\n\u001b[1;32m    169\u001b[0m         \u001b[38;5;66;03m#  on the non-missing values)\u001b[39;00m\n\u001b[1;32m    170\u001b[0m         \u001b[38;5;66;03m# Don't do this for comparisons, as that will handle complex numbers\u001b[39;00m\n\u001b[1;32m    171\u001b[0m         \u001b[38;5;66;03m#  incorrectly, see GH#32047\u001b[39;00m\n",
      "File \u001b[0;32m/opt/homebrew/lib/python3.11/site-packages/pandas/core/computation/expressions.py:241\u001b[0m, in \u001b[0;36mevaluate\u001b[0;34m(op, a, b, use_numexpr)\u001b[0m\n\u001b[1;32m    238\u001b[0m \u001b[38;5;28;01mif\u001b[39;00m op_str \u001b[38;5;129;01mis\u001b[39;00m \u001b[38;5;129;01mnot\u001b[39;00m \u001b[38;5;28;01mNone\u001b[39;00m:\n\u001b[1;32m    239\u001b[0m     \u001b[38;5;28;01mif\u001b[39;00m use_numexpr:\n\u001b[1;32m    240\u001b[0m         \u001b[38;5;66;03m# error: \"None\" not callable\u001b[39;00m\n\u001b[0;32m--> 241\u001b[0m         \u001b[38;5;28;01mreturn\u001b[39;00m \u001b[43m_evaluate\u001b[49m\u001b[43m(\u001b[49m\u001b[43mop\u001b[49m\u001b[43m,\u001b[49m\u001b[43m \u001b[49m\u001b[43mop_str\u001b[49m\u001b[43m,\u001b[49m\u001b[43m \u001b[49m\u001b[43ma\u001b[49m\u001b[43m,\u001b[49m\u001b[43m \u001b[49m\u001b[43mb\u001b[49m\u001b[43m)\u001b[49m  \u001b[38;5;66;03m# type: ignore[misc]\u001b[39;00m\n\u001b[1;32m    242\u001b[0m \u001b[38;5;28;01mreturn\u001b[39;00m _evaluate_standard(op, op_str, a, b)\n",
      "File \u001b[0;32m/opt/homebrew/lib/python3.11/site-packages/pandas/core/computation/expressions.py:70\u001b[0m, in \u001b[0;36m_evaluate_standard\u001b[0;34m(op, op_str, a, b)\u001b[0m\n\u001b[1;32m     68\u001b[0m \u001b[38;5;28;01mif\u001b[39;00m _TEST_MODE:\n\u001b[1;32m     69\u001b[0m     _store_test_result(\u001b[38;5;28;01mFalse\u001b[39;00m)\n\u001b[0;32m---> 70\u001b[0m \u001b[38;5;28;01mreturn\u001b[39;00m op(a, b)\n",
      "\u001b[0;31mKeyboardInterrupt\u001b[0m: "
     ]
    }
   ],
   "source": [
    "for seq_length in seq_lengths:\n",
    "\taverage_timeframe = compute_timeframe(data_df, seq_length)\n",
    "\tprint(f\"Average Timeframe for sequence length of {seq_length}: {average_timeframe}\")"
   ]
  }
 ],
 "metadata": {
  "kernelspec": {
   "display_name": "Python 3",
   "language": "python",
   "name": "python3"
  },
  "language_info": {
   "codemirror_mode": {
    "name": "ipython",
    "version": 3
   },
   "file_extension": ".py",
   "mimetype": "text/x-python",
   "name": "python",
   "nbconvert_exporter": "python",
   "pygments_lexer": "ipython3",
   "version": "3.11.7"
  }
 },
 "nbformat": 4,
 "nbformat_minor": 2
}
