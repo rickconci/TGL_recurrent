{
 "cells": [
  {
   "cell_type": "markdown",
   "metadata": {},
   "source": [
    "# Recurrency Metric for the tgbl-review dataset"
   ]
  },
  {
   "cell_type": "markdown",
   "metadata": {},
   "source": [
    "This notebook explores a recurrency metric for the tgbl-review dataset based on how often interaction between pairs of source and destination occur. It splits the interactions in groups based on frequncy of recurrence - 1 day, 1 week, 1 month etc. "
   ]
  },
  {
   "cell_type": "markdown",
   "metadata": {},
   "source": [
    "### Dataset Preparation"
   ]
  },
  {
   "cell_type": "code",
   "execution_count": 6,
   "metadata": {},
   "outputs": [],
   "source": [
    "from TGB.tgb.linkproppred.dataset import LinkPropPredDataset\n",
    "import pandas as pd"
   ]
  },
  {
   "cell_type": "code",
   "execution_count": 7,
   "metadata": {},
   "outputs": [
    {
     "name": "stdout",
     "output_type": "stream",
     "text": [
      "raw file found, skipping download\n",
      "Dataset directory is  /opt/homebrew/lib/python3.11/site-packages/tgb/./Datasets/tgbl_review\n",
      "loading processed file\n"
     ]
    }
   ],
   "source": [
    "name = \"tgbl-review\"\n",
    "dataset = LinkPropPredDataset(name=name, root=\"./Datasets\", preprocess=True)\n",
    "data = dataset.full_data\n",
    "\n",
    "data_df = pd.DataFrame([data['sources'], data['destinations'], data['timestamps']]).T\n",
    "data_df.columns = ['Source', 'Destination', 'Timestamp']"
   ]
  },
  {
   "cell_type": "code",
   "execution_count": 8,
   "metadata": {},
   "outputs": [
    {
     "data": {
      "text/html": [
       "<div>\n",
       "<style scoped>\n",
       "    .dataframe tbody tr th:only-of-type {\n",
       "        vertical-align: middle;\n",
       "    }\n",
       "\n",
       "    .dataframe tbody tr th {\n",
       "        vertical-align: top;\n",
       "    }\n",
       "\n",
       "    .dataframe thead th {\n",
       "        text-align: right;\n",
       "    }\n",
       "</style>\n",
       "<table border=\"1\" class=\"dataframe\">\n",
       "  <thead>\n",
       "    <tr style=\"text-align: right;\">\n",
       "      <th></th>\n",
       "      <th>Source</th>\n",
       "      <th>Destination</th>\n",
       "      <th>Timestamp</th>\n",
       "    </tr>\n",
       "  </thead>\n",
       "  <tbody>\n",
       "    <tr>\n",
       "      <th>0</th>\n",
       "      <td>0.0</td>\n",
       "      <td>1.0</td>\n",
       "      <td>9.292320e+08</td>\n",
       "    </tr>\n",
       "    <tr>\n",
       "      <th>1</th>\n",
       "      <td>2.0</td>\n",
       "      <td>3.0</td>\n",
       "      <td>9.307872e+08</td>\n",
       "    </tr>\n",
       "    <tr>\n",
       "      <th>2</th>\n",
       "      <td>4.0</td>\n",
       "      <td>1.0</td>\n",
       "      <td>9.318240e+08</td>\n",
       "    </tr>\n",
       "    <tr>\n",
       "      <th>3</th>\n",
       "      <td>5.0</td>\n",
       "      <td>6.0</td>\n",
       "      <td>9.318240e+08</td>\n",
       "    </tr>\n",
       "    <tr>\n",
       "      <th>4</th>\n",
       "      <td>7.0</td>\n",
       "      <td>8.0</td>\n",
       "      <td>9.318240e+08</td>\n",
       "    </tr>\n",
       "    <tr>\n",
       "      <th>...</th>\n",
       "      <td>...</td>\n",
       "      <td>...</td>\n",
       "      <td>...</td>\n",
       "    </tr>\n",
       "    <tr>\n",
       "      <th>4873535</th>\n",
       "      <td>257355.0</td>\n",
       "      <td>234180.0</td>\n",
       "      <td>1.538438e+09</td>\n",
       "    </tr>\n",
       "    <tr>\n",
       "      <th>4873536</th>\n",
       "      <td>195919.0</td>\n",
       "      <td>301073.0</td>\n",
       "      <td>1.538525e+09</td>\n",
       "    </tr>\n",
       "    <tr>\n",
       "      <th>4873537</th>\n",
       "      <td>143936.0</td>\n",
       "      <td>137681.0</td>\n",
       "      <td>1.538525e+09</td>\n",
       "    </tr>\n",
       "    <tr>\n",
       "      <th>4873538</th>\n",
       "      <td>70003.0</td>\n",
       "      <td>249788.0</td>\n",
       "      <td>1.538611e+09</td>\n",
       "    </tr>\n",
       "    <tr>\n",
       "      <th>4873539</th>\n",
       "      <td>51619.0</td>\n",
       "      <td>246086.0</td>\n",
       "      <td>1.538611e+09</td>\n",
       "    </tr>\n",
       "  </tbody>\n",
       "</table>\n",
       "<p>4873540 rows × 3 columns</p>\n",
       "</div>"
      ],
      "text/plain": [
       "           Source  Destination     Timestamp\n",
       "0             0.0          1.0  9.292320e+08\n",
       "1             2.0          3.0  9.307872e+08\n",
       "2             4.0          1.0  9.318240e+08\n",
       "3             5.0          6.0  9.318240e+08\n",
       "4             7.0          8.0  9.318240e+08\n",
       "...           ...          ...           ...\n",
       "4873535  257355.0     234180.0  1.538438e+09\n",
       "4873536  195919.0     301073.0  1.538525e+09\n",
       "4873537  143936.0     137681.0  1.538525e+09\n",
       "4873538   70003.0     249788.0  1.538611e+09\n",
       "4873539   51619.0     246086.0  1.538611e+09\n",
       "\n",
       "[4873540 rows x 3 columns]"
      ]
     },
     "execution_count": 8,
     "metadata": {},
     "output_type": "execute_result"
    }
   ],
   "source": [
    "data_df"
   ]
  },
  {
   "cell_type": "markdown",
   "metadata": {},
   "source": [
    "### Recurrency Metric based on Interaction Frequency"
   ]
  },
  {
   "cell_type": "code",
   "execution_count": 15,
   "metadata": {},
   "outputs": [],
   "source": [
    "data_df['Timestamp'] = pd.to_datetime(data_df['Timestamp'], unit='s')"
   ]
  },
  {
   "cell_type": "code",
   "execution_count": 30,
   "metadata": {},
   "outputs": [
    {
     "name": "stderr",
     "output_type": "stream",
     "text": [
      "/var/folders/j9/gr3m7ly52mx4hfzpzdtzzfg40000gn/T/ipykernel_89750/1822288608.py:8: SettingWithCopyWarning: \n",
      "A value is trying to be set on a copy of a slice from a DataFrame.\n",
      "Try using .loc[row_indexer,col_indexer] = value instead\n",
      "\n",
      "See the caveats in the documentation: https://pandas.pydata.org/pandas-docs/stable/user_guide/indexing.html#returning-a-view-versus-a-copy\n",
      "  df_filtered['YearWeek'] = df_filtered['Timestamp'].dt.to_period('W')\n"
     ]
    },
    {
     "name": "stdout",
     "output_type": "stream",
     "text": [
      "Year with the most records: 2015\n",
      "Empty DataFrame\n",
      "Columns: [Source, Destination, Timestamp, Year, YearWeek]\n",
      "Index: []\n"
     ]
    }
   ],
   "source": [
    "data_df['Year'] = data_df['Timestamp'].dt.year\n",
    "most_common_year = data_df['Year'].value_counts().idxmax()\n",
    "\n",
    "start_date = pd.Timestamp(year=most_common_year, month=1, day=1)\n",
    "end_date = pd.Timestamp(year=most_common_year, month=3, day=31)\n",
    "df_filtered = data_df[(data_df['Timestamp'] >= start_date) & (data_df['Timestamp'] <= end_date)]\n",
    "\n",
    "df_filtered['YearWeek'] = df_filtered['Timestamp'].dt.to_period('W')\n",
    "\n",
    "def check_weekly_occurrences(group):\n",
    "    expected_weeks = pd.date_range(start=start_date, end=end_date, freq='W-MON').nunique()\n",
    "    unique_weeks = group['YearWeek'].nunique()\n",
    "    return unique_weeks == expected_weeks / 2\n",
    "\n",
    "weekly_occurrences = df_filtered.groupby(['Source', 'Destination']).filter(check_weekly_occurrences)\n",
    "\n",
    "summary = weekly_occurrences.drop_duplicates(subset=['Source', 'Destination'])\n",
    "\n",
    "print(f\"Year with the most records: {most_common_year}\")\n",
    "print(summary)"
   ]
  },
  {
   "cell_type": "code",
   "execution_count": 29,
   "metadata": {},
   "outputs": [
    {
     "name": "stderr",
     "output_type": "stream",
     "text": [
      "/var/folders/j9/gr3m7ly52mx4hfzpzdtzzfg40000gn/T/ipykernel_89750/3120860158.py:5: SettingWithCopyWarning: \n",
      "A value is trying to be set on a copy of a slice from a DataFrame.\n",
      "Try using .loc[row_indexer,col_indexer] = value instead\n",
      "\n",
      "See the caveats in the documentation: https://pandas.pydata.org/pandas-docs/stable/user_guide/indexing.html#returning-a-view-versus-a-copy\n",
      "  df_filtered['YearMonth'] = df_filtered['Timestamp'].dt.to_period('M')\n"
     ]
    },
    {
     "name": "stdout",
     "output_type": "stream",
     "text": [
      "           Source  Destination  Timestamp  Year YearMonth\n",
      "1919193  133197.0     150489.0 2015-01-05  2015   2015-01\n",
      "1922440  269567.0     158789.0 2015-01-06  2015   2015-01\n",
      "1924553  194963.0     149123.0 2015-01-07  2015   2015-01\n",
      "1925655   13179.0     121031.0 2015-01-07  2015   2015-01\n",
      "1925934  179066.0     242150.0 2015-01-07  2015   2015-01\n",
      "...           ...          ...        ...   ...       ...\n",
      "2081909  213310.0     222245.0 2015-02-25  2015   2015-02\n",
      "2082537  312258.0     244894.0 2015-02-25  2015   2015-02\n",
      "2084530   83401.0      79841.0 2015-02-26  2015   2015-02\n",
      "2086926   53510.0     240722.0 2015-02-26  2015   2015-02\n",
      "2091793  118566.0     172336.0 2015-02-28  2015   2015-02\n",
      "\n",
      "[77 rows x 5 columns]\n"
     ]
    }
   ],
   "source": [
    "start_date = \"2015-01-01\"\n",
    "end_date = \"2015-03-31\"\n",
    "df_filtered = data_df[(data_df['Timestamp'] >= start_date) & (data_df['Timestamp'] <= end_date)]\n",
    "\n",
    "df_filtered['YearMonth'] = df_filtered['Timestamp'].dt.to_period('M')\n",
    "\n",
    "def check_monthly_occurrences(group):\n",
    "    unique_months = group['YearMonth'].nunique()\n",
    "    return unique_months == 2\n",
    "\n",
    "monthly_occurrences = df_filtered.groupby(['Source', 'Destination']).filter(check_monthly_occurrences)\n",
    "\n",
    "summary = monthly_occurrences.drop_duplicates(subset=['Source', 'Destination'])\n",
    "\n",
    "print(summary)\n"
   ]
  },
  {
   "cell_type": "code",
   "execution_count": 21,
   "metadata": {},
   "outputs": [],
   "source": [
    "frequency = data_df.groupby(['Source', 'Destination'])['Timestamp'].transform(classify_frequency)\n",
    "data_df['Frequency'] = frequency\n"
   ]
  },
  {
   "cell_type": "code",
   "execution_count": 22,
   "metadata": {},
   "outputs": [
    {
     "data": {
      "text/html": [
       "<div>\n",
       "<style scoped>\n",
       "    .dataframe tbody tr th:only-of-type {\n",
       "        vertical-align: middle;\n",
       "    }\n",
       "\n",
       "    .dataframe tbody tr th {\n",
       "        vertical-align: top;\n",
       "    }\n",
       "\n",
       "    .dataframe thead th {\n",
       "        text-align: right;\n",
       "    }\n",
       "</style>\n",
       "<table border=\"1\" class=\"dataframe\">\n",
       "  <thead>\n",
       "    <tr style=\"text-align: right;\">\n",
       "      <th></th>\n",
       "      <th>Source</th>\n",
       "      <th>Destination</th>\n",
       "      <th>Timestamp</th>\n",
       "      <th>Frequency</th>\n",
       "    </tr>\n",
       "  </thead>\n",
       "  <tbody>\n",
       "    <tr>\n",
       "      <th>0</th>\n",
       "      <td>0.0</td>\n",
       "      <td>1.0</td>\n",
       "      <td>1999-06-13</td>\n",
       "      <td>Single occurrence</td>\n",
       "    </tr>\n",
       "    <tr>\n",
       "      <th>1</th>\n",
       "      <td>2.0</td>\n",
       "      <td>3.0</td>\n",
       "      <td>1999-07-01</td>\n",
       "      <td>Single occurrence</td>\n",
       "    </tr>\n",
       "    <tr>\n",
       "      <th>2</th>\n",
       "      <td>4.0</td>\n",
       "      <td>1.0</td>\n",
       "      <td>1999-07-13</td>\n",
       "      <td>Single occurrence</td>\n",
       "    </tr>\n",
       "    <tr>\n",
       "      <th>3</th>\n",
       "      <td>5.0</td>\n",
       "      <td>6.0</td>\n",
       "      <td>1999-07-13</td>\n",
       "      <td>Single occurrence</td>\n",
       "    </tr>\n",
       "    <tr>\n",
       "      <th>4</th>\n",
       "      <td>7.0</td>\n",
       "      <td>8.0</td>\n",
       "      <td>1999-07-13</td>\n",
       "      <td>Single occurrence</td>\n",
       "    </tr>\n",
       "    <tr>\n",
       "      <th>...</th>\n",
       "      <td>...</td>\n",
       "      <td>...</td>\n",
       "      <td>...</td>\n",
       "      <td>...</td>\n",
       "    </tr>\n",
       "    <tr>\n",
       "      <th>4873535</th>\n",
       "      <td>257355.0</td>\n",
       "      <td>234180.0</td>\n",
       "      <td>2018-10-02</td>\n",
       "      <td>Single occurrence</td>\n",
       "    </tr>\n",
       "    <tr>\n",
       "      <th>4873536</th>\n",
       "      <td>195919.0</td>\n",
       "      <td>301073.0</td>\n",
       "      <td>2018-10-03</td>\n",
       "      <td>Single occurrence</td>\n",
       "    </tr>\n",
       "    <tr>\n",
       "      <th>4873537</th>\n",
       "      <td>143936.0</td>\n",
       "      <td>137681.0</td>\n",
       "      <td>2018-10-03</td>\n",
       "      <td>Single occurrence</td>\n",
       "    </tr>\n",
       "    <tr>\n",
       "      <th>4873538</th>\n",
       "      <td>70003.0</td>\n",
       "      <td>249788.0</td>\n",
       "      <td>2018-10-04</td>\n",
       "      <td>Single occurrence</td>\n",
       "    </tr>\n",
       "    <tr>\n",
       "      <th>4873539</th>\n",
       "      <td>51619.0</td>\n",
       "      <td>246086.0</td>\n",
       "      <td>2018-10-04</td>\n",
       "      <td>Single occurrence</td>\n",
       "    </tr>\n",
       "  </tbody>\n",
       "</table>\n",
       "<p>4873540 rows × 4 columns</p>\n",
       "</div>"
      ],
      "text/plain": [
       "           Source  Destination  Timestamp          Frequency\n",
       "0             0.0          1.0 1999-06-13  Single occurrence\n",
       "1             2.0          3.0 1999-07-01  Single occurrence\n",
       "2             4.0          1.0 1999-07-13  Single occurrence\n",
       "3             5.0          6.0 1999-07-13  Single occurrence\n",
       "4             7.0          8.0 1999-07-13  Single occurrence\n",
       "...           ...          ...        ...                ...\n",
       "4873535  257355.0     234180.0 2018-10-02  Single occurrence\n",
       "4873536  195919.0     301073.0 2018-10-03  Single occurrence\n",
       "4873537  143936.0     137681.0 2018-10-03  Single occurrence\n",
       "4873538   70003.0     249788.0 2018-10-04  Single occurrence\n",
       "4873539   51619.0     246086.0 2018-10-04  Single occurrence\n",
       "\n",
       "[4873540 rows x 4 columns]"
      ]
     },
     "execution_count": 22,
     "metadata": {},
     "output_type": "execute_result"
    }
   ],
   "source": [
    "data_df"
   ]
  },
  {
   "cell_type": "markdown",
   "metadata": {},
   "source": [
    "Now obtain only pairs that have daily interactions"
   ]
  },
  {
   "cell_type": "code",
   "execution_count": 23,
   "metadata": {},
   "outputs": [],
   "source": [
    "daily_occurrences = data_df[data_df['Frequency'] == 'Daily']"
   ]
  },
  {
   "cell_type": "code",
   "execution_count": 24,
   "metadata": {},
   "outputs": [
    {
     "data": {
      "text/html": [
       "<div>\n",
       "<style scoped>\n",
       "    .dataframe tbody tr th:only-of-type {\n",
       "        vertical-align: middle;\n",
       "    }\n",
       "\n",
       "    .dataframe tbody tr th {\n",
       "        vertical-align: top;\n",
       "    }\n",
       "\n",
       "    .dataframe thead th {\n",
       "        text-align: right;\n",
       "    }\n",
       "</style>\n",
       "<table border=\"1\" class=\"dataframe\">\n",
       "  <thead>\n",
       "    <tr style=\"text-align: right;\">\n",
       "      <th></th>\n",
       "      <th>Source</th>\n",
       "      <th>Destination</th>\n",
       "      <th>Timestamp</th>\n",
       "      <th>Frequency</th>\n",
       "    </tr>\n",
       "  </thead>\n",
       "  <tbody>\n",
       "    <tr>\n",
       "      <th>587</th>\n",
       "      <td>669.0</td>\n",
       "      <td>185.0</td>\n",
       "      <td>2000-08-01</td>\n",
       "      <td>Daily</td>\n",
       "    </tr>\n",
       "    <tr>\n",
       "      <th>588</th>\n",
       "      <td>669.0</td>\n",
       "      <td>100.0</td>\n",
       "      <td>2000-08-01</td>\n",
       "      <td>Daily</td>\n",
       "    </tr>\n",
       "    <tr>\n",
       "      <th>589</th>\n",
       "      <td>669.0</td>\n",
       "      <td>185.0</td>\n",
       "      <td>2000-08-01</td>\n",
       "      <td>Daily</td>\n",
       "    </tr>\n",
       "    <tr>\n",
       "      <th>590</th>\n",
       "      <td>669.0</td>\n",
       "      <td>100.0</td>\n",
       "      <td>2000-08-01</td>\n",
       "      <td>Daily</td>\n",
       "    </tr>\n",
       "    <tr>\n",
       "      <th>664</th>\n",
       "      <td>669.0</td>\n",
       "      <td>560.0</td>\n",
       "      <td>2000-08-17</td>\n",
       "      <td>Daily</td>\n",
       "    </tr>\n",
       "    <tr>\n",
       "      <th>...</th>\n",
       "      <td>...</td>\n",
       "      <td>...</td>\n",
       "      <td>...</td>\n",
       "      <td>...</td>\n",
       "    </tr>\n",
       "    <tr>\n",
       "      <th>4871920</th>\n",
       "      <td>154555.0</td>\n",
       "      <td>308688.0</td>\n",
       "      <td>2018-09-11</td>\n",
       "      <td>Daily</td>\n",
       "    </tr>\n",
       "    <tr>\n",
       "      <th>4871922</th>\n",
       "      <td>154555.0</td>\n",
       "      <td>308688.0</td>\n",
       "      <td>2018-09-11</td>\n",
       "      <td>Daily</td>\n",
       "    </tr>\n",
       "    <tr>\n",
       "      <th>4871923</th>\n",
       "      <td>154555.0</td>\n",
       "      <td>308688.0</td>\n",
       "      <td>2018-09-11</td>\n",
       "      <td>Daily</td>\n",
       "    </tr>\n",
       "    <tr>\n",
       "      <th>4871924</th>\n",
       "      <td>154555.0</td>\n",
       "      <td>308688.0</td>\n",
       "      <td>2018-09-11</td>\n",
       "      <td>Daily</td>\n",
       "    </tr>\n",
       "    <tr>\n",
       "      <th>4871928</th>\n",
       "      <td>154555.0</td>\n",
       "      <td>308688.0</td>\n",
       "      <td>2018-09-11</td>\n",
       "      <td>Daily</td>\n",
       "    </tr>\n",
       "  </tbody>\n",
       "</table>\n",
       "<p>268149 rows × 4 columns</p>\n",
       "</div>"
      ],
      "text/plain": [
       "           Source  Destination  Timestamp Frequency\n",
       "587         669.0        185.0 2000-08-01     Daily\n",
       "588         669.0        100.0 2000-08-01     Daily\n",
       "589         669.0        185.0 2000-08-01     Daily\n",
       "590         669.0        100.0 2000-08-01     Daily\n",
       "664         669.0        560.0 2000-08-17     Daily\n",
       "...           ...          ...        ...       ...\n",
       "4871920  154555.0     308688.0 2018-09-11     Daily\n",
       "4871922  154555.0     308688.0 2018-09-11     Daily\n",
       "4871923  154555.0     308688.0 2018-09-11     Daily\n",
       "4871924  154555.0     308688.0 2018-09-11     Daily\n",
       "4871928  154555.0     308688.0 2018-09-11     Daily\n",
       "\n",
       "[268149 rows x 4 columns]"
      ]
     },
     "execution_count": 24,
     "metadata": {},
     "output_type": "execute_result"
    }
   ],
   "source": [
    "daily_occurrences"
   ]
  },
  {
   "cell_type": "code",
   "execution_count": 25,
   "metadata": {},
   "outputs": [],
   "source": [
    "daily_occurrences.to_csv('datasets/tgbl-review_daily_occurrences.csv', index=False)\n"
   ]
  },
  {
   "cell_type": "code",
   "execution_count": null,
   "metadata": {},
   "outputs": [],
   "source": []
  }
 ],
 "metadata": {
  "kernelspec": {
   "display_name": "Python 3",
   "language": "python",
   "name": "python3"
  },
  "language_info": {
   "codemirror_mode": {
    "name": "ipython",
    "version": 3
   },
   "file_extension": ".py",
   "mimetype": "text/x-python",
   "name": "python",
   "nbconvert_exporter": "python",
   "pygments_lexer": "ipython3",
   "version": "3.11.7"
  }
 },
 "nbformat": 4,
 "nbformat_minor": 2
}
